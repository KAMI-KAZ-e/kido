{
 "cells": [
  {
   "cell_type": "code",
   "execution_count": 2,
   "metadata": {},
   "outputs": [],
   "source": [
    "# Create data -> read sample passwords from rockyou.txt\n",
    "# https://www.kaggle.com/wjburns/common-password-list-rockyoutxt#rockyou.txt\n",
    "from datetime import datetime\n",
    "\n",
    "# Read some sample passwords from rockyou.txt\n",
    "project_path = \"Documents/Learning/Projects/kido/\"\n",
    "passwords_file = \"rockyou.txt\"\n",
    "passwords_file_with_path = project_path + passwords_file\n",
    "list_of_passwords = []\n",
    "number_of_passwords = 1000\n",
    "with open(passwords_file_with_path, 'r') as fp:\n",
    "    line = fp.readline().strip()\n",
    "    while line and len(list_of_passwords) < number_of_passwords:\n",
    "        if line.isalpha() and line.islower() and line not in list_of_passwords:\n",
    "            list_of_passwords.append(line)\n",
    "        line = fp.readline().strip()\n",
    "\n",
    "# Write the passwords to a file\n",
    "now = datetime.now()\n",
    "sample_passwords_file = \"data_sample_passwords__\" + str(now) + \".txt\"\n",
    "sample_passwords_file_with_path = project_path + sample_passwords_file\n",
    "with open(sample_passwords_file_with_path, 'w') as the_file:\n",
    "    for i in range(len(list_of_passwords)):\n",
    "        the_file.write(str(i+1) + '. ' + list_of_passwords[i] + '\\n')"
   ]
  },
  {
   "cell_type": "code",
   "execution_count": null,
   "metadata": {},
   "outputs": [],
   "source": []
  }
 ],
 "metadata": {
  "kernelspec": {
   "display_name": "Python 3",
   "language": "python",
   "name": "python3"
  },
  "language_info": {
   "codemirror_mode": {
    "name": "ipython",
    "version": 3
   },
   "file_extension": ".py",
   "mimetype": "text/x-python",
   "name": "python",
   "nbconvert_exporter": "python",
   "pygments_lexer": "ipython3",
   "version": "3.6.4"
  }
 },
 "nbformat": 4,
 "nbformat_minor": 2
}
