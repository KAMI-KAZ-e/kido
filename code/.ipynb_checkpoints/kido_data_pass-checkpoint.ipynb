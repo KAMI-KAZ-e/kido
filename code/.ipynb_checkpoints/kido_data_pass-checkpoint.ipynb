{
 "cells": [
  {
   "cell_type": "code",
   "execution_count": 23,
   "metadata": {},
   "outputs": [],
   "source": [
    "import os\n",
    "from datetime import datetime\n",
    "\n",
    "def read_passwords(path, n = 1000):\n",
    "    \"\"\"\n",
    "    Reads first 'n' passwords from the 'rockyou.txt' that\n",
    "      1. contain only alphabets\n",
    "      2. are all lowercase\n",
    "      3. are non-duplicates\n",
    "    \n",
    "    path = file path where the 'rockyou.txt' is stored\n",
    "    n = maximum number of passwords to read (n = 1000, if not specified)\n",
    "    \n",
    "    It serial numbers and writes the extracted passwords in a file called 'passwords__<time-stamp>.txt',\n",
    "    where <time-stamp> is a time stamp.\n",
    "    If it cannot find 'n' passwords satisfying the above conditions, it will read as many as it can find.\n",
    "    \n",
    "    The 'rockyou.txt' can be downloaded from:\n",
    "    https://www.kaggle.com/wjburns/common-password-list-rockyoutxt#rockyou.txt\n",
    "    \"\"\"\n",
    "    \n",
    "    # Read the file\n",
    "    file = \"rockyou.txt\"\n",
    "    file_with_path = path + file\n",
    "    list_of_passwords = []\n",
    "    with open(file_with_path, 'r') as fp:\n",
    "        line = fp.readline().strip()\n",
    "        while line and len(list_of_passwords) < n:\n",
    "            if line.isalpha() and line.islower() and line not in list_of_passwords:\n",
    "                list_of_passwords.append(line)\n",
    "            line = fp.readline().strip()\n",
    "\n",
    "    # Write the passwords to a file\n",
    "    now = datetime.now()\n",
    "    passwords_file = \"passwords__\" + str(now) + \".txt\"\n",
    "    passwords_file_with_path = path + passwords_file\n",
    "    m = len(str(n))\n",
    "    with open(passwords_file_with_path, 'w') as the_file:\n",
    "        for i in range(len(list_of_passwords)):\n",
    "            the_file.write(\"{0:{m}d}. {1:} \\n\".format(i+1, list_of_passwords[i], m = m))\n"
   ]
  },
  {
   "cell_type": "code",
   "execution_count": 25,
   "metadata": {},
   "outputs": [
    {
     "name": "stdout",
     "output_type": "stream",
     "text": [
      "/Users/tikka/Documents/Learning/Projects/kido/code\n"
     ]
    }
   ],
   "source": [
    "# Reading the first 1,000 passwords from rockyou.txt\n",
    "print(os.getcwd())\n",
    "path = \"/Users/tikka/Desktop/kido/resources_LargeFiles/\"\n",
    "read_passwords(path, n = 1000)"
   ]
  },
  {
   "cell_type": "code",
   "execution_count": null,
   "metadata": {},
   "outputs": [],
   "source": []
  }
 ],
 "metadata": {
  "kernelspec": {
   "display_name": "Python 3",
   "language": "python",
   "name": "python3"
  },
  "language_info": {
   "codemirror_mode": {
    "name": "ipython",
    "version": 3
   },
   "file_extension": ".py",
   "mimetype": "text/x-python",
   "name": "python",
   "nbconvert_exporter": "python",
   "pygments_lexer": "ipython3",
   "version": "3.6.4"
  }
 },
 "nbformat": 4,
 "nbformat_minor": 2
}
