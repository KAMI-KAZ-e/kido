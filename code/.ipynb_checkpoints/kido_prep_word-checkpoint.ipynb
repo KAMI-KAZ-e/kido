{
 "cells": [
  {
   "cell_type": "code",
   "execution_count": 1,
   "metadata": {},
   "outputs": [
    {
     "name": "stdout",
     "output_type": "stream",
     "text": [
      "/Users/tikka/Documents/Learning/Projects/kido/code\n",
      "[]\n"
     ]
    }
   ],
   "source": [
    "# Data pre-processing\n",
    "import matplotlib.pyplot as plt\n",
    "import os\n",
    "import random\n",
    "import shutil\n",
    "import itertools\n",
    "import seaborn as sns\n",
    "from scipy import signal\n",
    "from scipy.io import wavfile\n",
    "from pydub import AudioSegment\n",
    "from pydub.silence import split_on_silence\n",
    "sns.set()\n",
    "\n",
    "\"\"\"\n",
    "Data prep (pre-processing): typing a word, e.g., 'iloveu'.\n",
    "\n",
    "This script first converts the recorded keystrokes (corresponding to typing a word) m4a to wav.\n",
    "It then splits the wav into individual chunks s.t. each chunk contains only one character.\n",
    "\n",
    "Splitting a word is considered successful if the number of chunks matches \n",
    "the number of letters in the word, failure otherwise.\n",
    "\n",
    "Conventions:\n",
    "The m4a filename should be the typed word itself.\n",
    "For example, if typing 'iloveu', the recorded keystrokes audio should be named 'iloveu.m4a'.\n",
    "Then if the splitting is successful, \n",
    "the splitted chunks are saved as 'iloveu_chunk0_i.wav', 'iloveu_chunk1_l.wav', 'iloveu_chunk2_o.wav', etc.\n",
    "\"\"\"\n",
    "\n",
    "# Check the cwd ...\n",
    "print(os.getcwd())\n",
    "\n",
    "# File paths\n",
    "path_project = \"/Users/tikka/Documents/Learning/Projects/kido/\" # Project path\n",
    "path_words = path_project + \"audioWord/\" # Path where the recorded m4a, and the converted wav, files are stored\n",
    "path_split = path_project + \"audioSplit/\" # Path where the splitted chunks are stored\n",
    "path_failed = path_project + \"audioWord_failed/\" # Path where any words that fail splitting are moved\n",
    "path_figures = path_project + \"figures/\" # Path where some sample figures are saved\n",
    "\n",
    "# Get the list of all mp4(=m4a) files not yet converted to wav\n",
    "list_words = os.listdir(path_words)\n",
    "list_mp4 = [file for file in list_words if file.endswith('.m4a')]\n",
    "list_wav = [file for file in list_words if file.endswith('.wav')]\n",
    "list_2con = [file for file in list_mp4 if (file[:-4] + '.wav') not in list_wav]\n",
    "#print(list_words)\n",
    "#print(list_mp4)\n",
    "#print(list_wav)\n",
    "print(list_2con)"
   ]
  },
  {
   "cell_type": "code",
   "execution_count": 2,
   "metadata": {},
   "outputs": [],
   "source": [
    "# Convert mp4(=m4a) to wav (need to install pydub and ffmpeg)\n",
    "# https://pythonbasics.org/convert-mp3-to-wav/\n",
    "# https://www.youtube.com/watch?v=8nbuqYw2OCw\n",
    "# https://github.com/jiaaro/pydub\n",
    "for file in list_2con:\n",
    "    audio = AudioSegment.from_file(path_words + file, \"mp4\")\n",
    "    audio.export(path_words + file[:-4] + \".wav\", \"wav\")"
   ]
  },
  {
   "cell_type": "code",
   "execution_count": 3,
   "metadata": {},
   "outputs": [
    {
     "name": "stdout",
     "output_type": "stream",
     "text": [
      "\n",
      "\n",
      "Number of files failed splitting (m out of n): 0 2\n"
     ]
    }
   ],
   "source": [
    "# Get the list of wav files that are not yet split into char-chunks\n",
    "list_words = os.listdir(path_words)\n",
    "list_wav = [file for file in list_words if file.endswith('.wav')]\n",
    "list_split = os.listdir(path_split)\n",
    "list_split = [file for file in list_split if file.endswith('.wav')]\n",
    "list_split_base = list(set([file.split(\"_\")[0] for file in list_split]))\n",
    "list_2split = [file for file in list_wav if file[:-4] not in list_split_base]\n",
    "#print(list_wav)\n",
    "#print(list_split)\n",
    "#print(list_split_base)\n",
    "#print(list_2split)\n",
    "\n",
    "# Split the wav files using silence detection - split only the ones that are not split yet\n",
    "# https://stackoverflow.com/questions/45526996/split-audio-files-using-silence-detection\n",
    "# https://github.com/jiaaro/pydub/issues/169\n",
    "list_failed_splitting = []\n",
    "list_passed_splitting = []\n",
    "for file in list_2split:\n",
    "    audio = AudioSegment.from_wav(path_words + file)\n",
    "    average_loudness = audio.dBFS\n",
    "    #print(\"file, audio length, dBFS:\", file, len(audio), average_loudness)\n",
    "    print(\".\", end = '')\n",
    "    chunks = split_on_silence(\n",
    "        # Audio to be split\n",
    "        audio,\n",
    "        \n",
    "        # Specify that a silence chunk must be at least 100ms long\n",
    "        min_silence_len = 100,\n",
    "        \n",
    "        # Consider a chunk silent if it's quieter than 'average_loudness - 10' dBFS\n",
    "        silence_thresh = average_loudness - 10,\n",
    "        \n",
    "        # Keep some silence padding\n",
    "        keep_silence = 100\n",
    "    )\n",
    "    \n",
    "    # Do the number of splitted chunks match with number of chars?\n",
    "    n_chunks = len(chunks)\n",
    "    n_chars = len(file[:-4])\n",
    "    if n_chunks == n_chars:\n",
    "        # Export the chunks\n",
    "        list_passed_splitting.append(file)\n",
    "        for i in range(len(chunks)):\n",
    "            chunks[i].export(path_split + file[:-4] + \"_chunk\" + str(i) + \"_\" + file[i] + \".wav\", \"wav\")\n",
    "    else:\n",
    "        list_failed_splitting.append((file, n_chars, n_chunks, average_loudness))\n",
    "\n",
    "# Print out the files that failed splitting\n",
    "list_failed_splitting.sort()\n",
    "print('\\n')\n",
    "print(\"Number of files failed splitting (m out of n):\", len(list_failed_splitting), len(list_wav))\n",
    "for item in list_failed_splitting:\n",
    "    file, n_chars, n_chunks, average_loudness = item\n",
    "    # https://stackoverflow.com/questions/15181927/new-style-formatting-with-tuple-as-argument\n",
    "    print(\"Failed splitting (file, # of chars, # of chunks, dBFS): {0:16s} {1:3} {2:4} {3:8.1f}\".format(*item))"
   ]
  },
  {
   "cell_type": "code",
   "execution_count": 4,
   "metadata": {},
   "outputs": [],
   "source": [
    "# Plot a file that failed splitting for visual analysis\n",
    "if list_failed_splitting:\n",
    "    # Choose a sample wav file\n",
    "    failed_item = random.choice(list_failed_splitting)\n",
    "    failed_wav = failed_item[0]\n",
    "    failed_wav_wpath = path_words + failed_wav\n",
    "    #print(failed_wav_wpath)\n",
    "\n",
    "    # Load the wav file\n",
    "    # https://stackoverflow.com/questions/28117228/data-returned-by-scipy-io-wavfile-read\n",
    "    sample_rate, samples = wavfile.read(failed_wav_wpath)\n",
    "    samples1D = samples[:,0]\n",
    "    #print(sample_rate)\n",
    "    #print(samples)\n",
    "    #print(samples1D)\n",
    "\n",
    "    # Plot the wav file\n",
    "    plt.plot(samples1D)\n",
    "    plt.ylabel(\"Amplitude\")\n",
    "    plt.xlabel(\"Sample #\")\n",
    "    plt.title(\"Failed wav, n_chars, n_chunks: \" + str(failed_item))\n",
    "    plt.show()"
   ]
  },
  {
   "cell_type": "code",
   "execution_count": 9,
   "metadata": {},
   "outputs": [
    {
     "data": {
      "image/png": "[encoded data removed]",
      "text/plain": [
       "<Figure size 432x288 with 1 Axes>"
      ]
     },
     "metadata": {
      "needs_background": "light"
     },
     "output_type": "display_data"
    },
    {
     "data": {
      "image/png": "[encoded data removed]",
      "text/plain": [
       "<Figure size 432x288 with 12 Axes>"
      ]
     },
     "metadata": {
      "needs_background": "light"
     },
     "output_type": "display_data"
    }
   ],
   "source": [
    "# Plot an original wav and the corresponding chunks for visual verification\n",
    "list_split = os.listdir(path_split)\n",
    "list_split = [file for file in list_split if file.endswith('.wav')]\n",
    "list_split_base = list(set([file.split(\"_\")[0] for file in list_split]))\n",
    "list_splitted = [file for file in list_wav if file[:-4] in list_split_base]\n",
    "#print(list_wav)\n",
    "#print(list_split_base)\n",
    "#print(list_splitted)\n",
    "if list_splitted:\n",
    "    # Choose a sample wav file\n",
    "    random_wav = random.choice(list_splitted)\n",
    "    sample_wav = path_words + random_wav\n",
    "    #print(sample_wav)\n",
    "\n",
    "    # Load the wav file\n",
    "    # https://stackoverflow.com/questions/28117228/data-returned-by-scipy-io-wavfile-read\n",
    "    sample_rate, samples = wavfile.read(sample_wav)\n",
    "    samples1D = samples[:,0]\n",
    "    #print(sample_rate)\n",
    "    #print(samples)\n",
    "    #print(samples1D)\n",
    "\n",
    "    # Plot the wav file\n",
    "    plt.plot(samples1D)\n",
    "    plt.ylabel(\"Amplitude\")\n",
    "    plt.xlabel(\"Sample #\")\n",
    "    plt.title(\"Sample wav file: \" + random_wav)\n",
    "    #plt.savefig(path_figures + random_wav[:-4] + '.png', dpi = 1000)\n",
    "    plt.show()\n",
    "\n",
    "    # Get the chunks\n",
    "    list_split = os.listdir(path_split)\n",
    "    list_chunks = [file for file in list_split if file.startswith(random_wav[:-4] + \"_\")]\n",
    "    #print(list_chunks)\n",
    "\n",
    "    # Plot the chunks\n",
    "    nrows = 4\n",
    "    ncols = 3\n",
    "    fbase = random_wav[:-4]\n",
    "    nplots = len(fbase)\n",
    "    fig, ax = plt.subplots(nrows, ncols, sharex='col', sharey='row')\n",
    "    for i, j in itertools.product(range(nrows), range(ncols)):\n",
    "        count = ncols * i + j\n",
    "        if count < nplots:\n",
    "            fname = fbase + '_chunk' + str(count) + '_' + fbase[count] + '.wav'\n",
    "            sample_rate, samples = wavfile.read(path_split + fname)\n",
    "            samples1D = samples[:,0]\n",
    "            ax[i, j].plot(samples1D)\n",
    "    #plt.savefig(path_figures + random_wav[:-4] + '_splits.png', dpi = 1000)\n"
   ]
  },
  {
   "cell_type": "code",
   "execution_count": 10,
   "metadata": {},
   "outputs": [],
   "source": [
    "# Move the un-successfully-splitted files to a different folder?\n",
    "# https://stackabuse.com/how-to-create-move-and-delete-files-in-python/\n",
    "# Use shutil.move(source_file_with_path, destination_file_with_path)\n",
    "for item in list_failed_splitting:\n",
    "    file = item[0]\n",
    "    fm4a = file[:-4] + '.m4a'\n",
    "    shutil.move(path_words + file, path_failed + file)\n",
    "    shutil.move(path_words + fm4a, path_failed + fm4a)\n",
    "    "
   ]
  },
  {
   "cell_type": "code",
   "execution_count": null,
   "metadata": {},
   "outputs": [],
   "source": []
  }
 ],
 "metadata": {
  "kernelspec": {
   "display_name": "Python 3",
   "language": "python",
   "name": "python3"
  },
  "language_info": {
   "codemirror_mode": {
    "name": "ipython",
    "version": 3
   },
   "file_extension": ".py",
   "mimetype": "text/x-python",
   "name": "python",
   "nbconvert_exporter": "python",
   "pygments_lexer": "ipython3",
   "version": "3.6.4"
  }
 },
 "nbformat": 4,
 "nbformat_minor": 2
}
