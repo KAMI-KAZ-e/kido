{
 "cells": [
  {
   "cell_type": "code",
   "execution_count": 2,
   "metadata": {},
   "outputs": [],
   "source": [
    "# Imports\n",
    "import matplotlib\n",
    "import matplotlib.pyplot as plt\n",
    "from scipy.io import wavfile\n",
    "\n",
    "\n",
    "def graph_spectrogram(input_path, wav_file, output_path, output_fname, close_fig = True):\n",
    "    \"\"\"\n",
    "    Converts wav to spectrogram and saves as png.\n",
    "    \n",
    "    input_path = path where the input wav file is present\n",
    "    wav_file = the input wav file name\n",
    "    output_path = path where the output png is to be saved\n",
    "    output_fname = output png file name\n",
    "    close_fig = close the figure? (close_fig = True, if not specified)\n",
    "    \n",
    "    Refs:\n",
    "    https://stackoverflow.com/questions/47147146/\n",
    "    save-an-image-only-content-without-axes-or-anything-else-to-a-file-using-matl\n",
    "    https://stackoverflow.com/questions/34162443/\n",
    "    why-do-many-examples-use-fig-ax-plt-subplots-in-matplotlib-pyplot-python\n",
    "    \"\"\"\n",
    "    rate, data = wavfile.read(input_path + wav_file)\n",
    "    data1D = data[:, 0]\n",
    "    fig, ax = plt.subplots(1)\n",
    "    fig.subplots_adjust(left=0, right=1, bottom=0, top=1)\n",
    "    ax.axis('off')\n",
    "    pxx, freqs, bins, im = ax.specgram(x=data1D, Fs=rate, noverlap=384, NFFT=512)\n",
    "    ax.axis('off')\n",
    "    fig.savefig(output_path + output_fname, dpi=300, frameon='false')\n",
    "    if close_fig:\n",
    "        matplotlib.pyplot.close(fig)"
   ]
  },
  {
   "cell_type": "code",
   "execution_count": null,
   "metadata": {},
   "outputs": [],
   "source": []
  }
 ],
 "metadata": {
  "kernelspec": {
   "display_name": "Python 3",
   "language": "python",
   "name": "python3"
  },
  "language_info": {
   "codemirror_mode": {
    "name": "ipython",
    "version": 3
   },
   "file_extension": ".py",
   "mimetype": "text/x-python",
   "name": "python",
   "nbconvert_exporter": "python",
   "pygments_lexer": "ipython3",
   "version": "3.6.4"
  }
 },
 "nbformat": 4,
 "nbformat_minor": 2
}
