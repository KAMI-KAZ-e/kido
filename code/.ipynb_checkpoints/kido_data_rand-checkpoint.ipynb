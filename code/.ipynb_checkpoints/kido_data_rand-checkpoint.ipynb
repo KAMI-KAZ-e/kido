{
 "cells": [
  {
   "cell_type": "code",
   "execution_count": 13,
   "metadata": {},
   "outputs": [],
   "source": [
    "import random\n",
    "import string\n",
    "import os\n",
    "from datetime import datetime\n",
    "\n",
    "# Returns a word containing random lowercase chars\n",
    "# https://stackoverflow.com/questions/2823316/generate-a-random-letter-in-python\n",
    "def random_char_lowercase(number_of_chars):\n",
    "    # number_of_chars = number of chars in the word\n",
    "    return ''.join(random.choice(string.ascii_lowercase) for i in range(number_of_chars))\n",
    "\n",
    "# Returns a list of unique words, each word containing random lowercase chars\n",
    "# https://www.pythoncentral.io/how-to-generate-a-random-number-in-python/\n",
    "def random_words_lowercase(number_of_words, number_of_chars_min, number_of_chars_max):\n",
    "    # number_of_words = number of words desired\n",
    "    # number_of_chars_min = min number of chars in each word\n",
    "    # number_of_chars_max = max number of chars in each word\n",
    "    list_of_words = []\n",
    "    while len(list_of_words) < number_of_words:\n",
    "        number_of_chars = random.randint(number_of_chars_min, number_of_chars_max)\n",
    "        word = random_char_lowercase(number_of_chars)\n",
    "        if word not in list_of_words:\n",
    "            list_of_words.append(word)\n",
    "    return list_of_words\n",
    "\n",
    "# Generate a list of random words\n",
    "words = random_words_lowercase(number_of_words = 100, number_of_chars_min = 10, number_of_chars_max = 10)\n",
    "\n",
    "# Write the words to a file\n",
    "project_path = \"Documents/Learning/Projects/kido/\"\n",
    "now = datetime.now()\n",
    "words_file = \"data_random_words__\" + str(now) + \".txt\"\n",
    "words_file_with_path = project_path + words_file\n",
    "with open(words_file_with_path, 'w') as the_file:\n",
    "    for i in range(len(words)):\n",
    "        the_file.write('{0:4}. {1:12s} {2:26s} \\n'.format(i+1, words[i], ' '.join(words[i])))\n",
    "\n",
    "\n",
    "#print(os.getcwd())\n",
    "#print(os.listdir(project_path))"
   ]
  },
  {
   "cell_type": "code",
   "execution_count": 14,
   "metadata": {},
   "outputs": [
    {
     "data": {
      "image/png": "[encoded data removed]",
      "text/plain": [
       "<Figure size 432x288 with 1 Axes>"
      ]
     },
     "metadata": {
      "needs_background": "light"
     },
     "output_type": "display_data"
    }
   ],
   "source": [
    "import matplotlib.pyplot as plt\n",
    "\n",
    "# Random words stats\n",
    "stats = [0] * 26\n",
    "for word in words:\n",
    "    for char in word:\n",
    "        index = ord(char) - ord('a')\n",
    "        stats[index] += 1\n",
    "\n",
    "labels = [chr(i + ord('a')) for i in range(len(stats))]\n",
    "x = [i for i in range(len(stats))]\n",
    "plt.bar(x, stats, align='center', alpha=0.8)\n",
    "plt.xticks(x, labels)\n",
    "plt.show()"
   ]
  },
  {
   "cell_type": "code",
   "execution_count": null,
   "metadata": {},
   "outputs": [],
   "source": []
  }
 ],
 "metadata": {
  "kernelspec": {
   "display_name": "Python 3",
   "language": "python",
   "name": "python3"
  },
  "language_info": {
   "codemirror_mode": {
    "name": "ipython",
    "version": 3
   },
   "file_extension": ".py",
   "mimetype": "text/x-python",
   "name": "python",
   "nbconvert_exporter": "python",
   "pygments_lexer": "ipython3",
   "version": "3.6.4"
  }
 },
 "nbformat": 4,
 "nbformat_minor": 2
}
