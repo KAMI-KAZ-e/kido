{
 "cells": [
  {
   "cell_type": "code",
   "execution_count": 6,
   "metadata": {},
   "outputs": [
    {
     "name": "stdout",
     "output_type": "stream",
     "text": [
      "/Users/tikka/Documents/Learning/Projects/kido/code\n",
      "[]\n"
     ]
    }
   ],
   "source": [
    "# Data pre-processing\n",
    "import matplotlib.pyplot as plt\n",
    "import os\n",
    "import random\n",
    "import shutil\n",
    "import itertools\n",
    "import time\n",
    "from scipy import signal\n",
    "from scipy.io import wavfile\n",
    "from pydub import AudioSegment\n",
    "from pydub.silence import split_on_silence\n",
    "from datetime import datetime\n",
    "\n",
    "print(os.getcwd())\n",
    "\n",
    "# File paths\n",
    "path_project = \"/Users/tikka/Documents/Learning/Projects/kido/\"\n",
    "path_words = path_project + \"audioWord/\"\n",
    "path_split = path_project + \"audioSplit/\"\n",
    "\n",
    "# Get the list of all mp4(=m4a) files not yet converted to wav\n",
    "list_words = os.listdir(path_words)\n",
    "list_mp4 = [file for file in list_words if file.endswith('.m4a')]\n",
    "list_wav = [file for file in list_words if file.endswith('.wav')]\n",
    "list_2con = [file for file in list_mp4 if (file[:-4] + '.wav') not in list_wav]\n",
    "#print(list_words)\n",
    "#print(list_mp4)\n",
    "#print(list_wav)\n",
    "print(list_2con)"
   ]
  },
  {
   "cell_type": "code",
   "execution_count": 7,
   "metadata": {},
   "outputs": [],
   "source": [
    "# Convert mp4(=m4a) to wav (need to install pydub and ffmpeg)\n",
    "# https://pythonbasics.org/convert-mp3-to-wav/\n",
    "# https://www.youtube.com/watch?v=8nbuqYw2OCw\n",
    "# https://github.com/jiaaro/pydub\n",
    "for file in list_2con:\n",
    "    audio = AudioSegment.from_file(path_words + file, \"mp4\")\n",
    "    audio.export(path_words + file[:-4] + \".wav\", \"wav\")"
   ]
  },
  {
   "cell_type": "code",
   "execution_count": 8,
   "metadata": {},
   "outputs": [
    {
     "name": "stdout",
     "output_type": "stream",
     "text": [
      "['canada.wav']\n",
      "file, audio length, dBFS: canada.wav 6381 -53.918119988356985\n",
      ".6\n"
     ]
    }
   ],
   "source": [
    "# Get the list of wav files that are not yet split into char-chunks\n",
    "list_words = os.listdir(path_words)\n",
    "list_wav = [file for file in list_words if file.endswith('.wav')]\n",
    "print(list_wav)\n",
    "\n",
    "# Split the wav files using silence detection - split only the ones that are not split yet\n",
    "# https://stackoverflow.com/questions/45526996/split-audio-files-using-silence-detection\n",
    "# https://github.com/jiaaro/pydub/issues/169\n",
    "for file in list_wav:\n",
    "    audio = AudioSegment.from_wav(path_words + file)\n",
    "    audio = audio[:-2000]\n",
    "    average_loudness = audio.dBFS\n",
    "    print(\"file, audio length, dBFS:\", file, len(audio), average_loudness)\n",
    "    print(\".\", end = '')\n",
    "    chunks = split_on_silence(\n",
    "        # Audio to be split\n",
    "        audio,\n",
    "        \n",
    "        # Specify that a silence chunk must be at least 100ms long\n",
    "        min_silence_len = 100,\n",
    "        \n",
    "        # Consider a chunk silent if it's quieter than x-dBFS\n",
    "        silence_thresh = average_loudness - 10,\n",
    "        \n",
    "        # Keep some silence padding\n",
    "        keep_silence = 100\n",
    "    )\n",
    "    \n",
    "    # Export the chunks\n",
    "    n_chunks = len(chunks)\n",
    "    print(n_chunks)\n",
    "    for i in range(len(chunks)):\n",
    "        mills = int(round(time.time() * 1000))\n",
    "        chunks[i].export(path_split + str(mills) + \"_\" + file[:-4] + \".wav\", \"wav\")\n",
    "        time.sleep(.001)\n"
   ]
  },
  {
   "cell_type": "code",
   "execution_count": 9,
   "metadata": {},
   "outputs": [
    {
     "data": {
      "image/png": "[encoded data removed]",
      "text/plain": [
       "<Figure size 432x288 with 1 Axes>"
      ]
     },
     "metadata": {
      "needs_background": "light"
     },
     "output_type": "display_data"
    },
    {
     "data": {
      "image/png": "[encoded data removed]",
      "text/plain": [
       "<Figure size 432x288 with 1 Axes>"
      ]
     },
     "metadata": {
      "needs_background": "light"
     },
     "output_type": "display_data"
    }
   ],
   "source": [
    "# Plot an original wav\n",
    "list_words = os.listdir(path_words)\n",
    "list_words = [file for file in list_words if file.endswith('.wav')]\n",
    "random_wav = random.choice(list_words)\n",
    "sample_wav = path_words + random_wav\n",
    "sample_rate, samples = wavfile.read(sample_wav)\n",
    "samples1D = samples[:,0]\n",
    "#print(sample_rate)\n",
    "#print(samples)\n",
    "#print(samples1D)\n",
    "\n",
    "# Plot the wav file\n",
    "plt.plot(samples1D)\n",
    "plt.ylabel(\"Amplitude\")\n",
    "plt.xlabel(\"Sample #\")\n",
    "plt.title(\"Sample wav: \" + random_wav)\n",
    "plt.show()\n",
    "\n",
    "# Plot a splitted wav\n",
    "list_split = os.listdir(path_split)\n",
    "list_split = [file for file in list_split if file.endswith('.wav')]\n",
    "random_wav = random.choice(list_split)\n",
    "sample_wav = path_split + random_wav\n",
    "sample_rate, samples = wavfile.read(sample_wav)\n",
    "samples1D = samples[:,0]\n",
    "#print(sample_rate)\n",
    "#print(samples)\n",
    "#print(samples1D)\n",
    "\n",
    "# Plot the wav file\n",
    "plt.plot(samples1D)\n",
    "plt.ylabel(\"Amplitude\")\n",
    "plt.xlabel(\"Sample #\")\n",
    "plt.title(\"Sample wav: \" + random_wav)\n",
    "plt.show()\n"
   ]
  },
  {
   "cell_type": "code",
   "execution_count": null,
   "metadata": {},
   "outputs": [],
   "source": []
  }
 ],
 "metadata": {
  "kernelspec": {
   "display_name": "Python 3",
   "language": "python",
   "name": "python3"
  },
  "language_info": {
   "codemirror_mode": {
    "name": "ipython",
    "version": 3
   },
   "file_extension": ".py",
   "mimetype": "text/x-python",
   "name": "python",
   "nbconvert_exporter": "python",
   "pygments_lexer": "ipython3",
   "version": "3.6.4"
  }
 },
 "nbformat": 4,
 "nbformat_minor": 2
}
